{
  "nbformat": 4,
  "nbformat_minor": 0,
  "metadata": {
    "colab": {
      "name": "data transformation.ipynb",
      "provenance": []
    },
    "kernelspec": {
      "name": "python3",
      "display_name": "Python 3"
    }
  },
  "cells": [
    {
      "cell_type": "code",
      "metadata": {
        "id": "AFGROXwOgXWG",
        "outputId": "e0601e8d-c007-476c-f144-3a055a46341d",
        "colab": {
          "base_uri": "https://localhost:8080/",
          "height": 118
        }
      },
      "source": [
        "# importing pandas as pd \n",
        "import pandas as pd \n",
        "\n",
        "# Creating the DataFrame \n",
        "df = pd.DataFrame({\"A\":[12, 4, 5, None, 1], \n",
        "\t\t\t\t\"B\":[7, 2, 54, 3, None], \n",
        "\t\t\t\t\"C\":[20, 16, 11, 3, 8], \n",
        "\t\t\t\t\"D\":[14, 3, None, 2, 6]}) \n",
        "\n",
        "# Create the index \n",
        "index_ = ['Row_1', 'Row_2', 'Row_3', 'Row_4', 'Row_5'] \n",
        "\n",
        "# Set the index \n",
        "df.index = index_ \n",
        "\n",
        "# Print the DataFrame \n",
        "print(df) \n"
      ],
      "execution_count": null,
      "outputs": [
        {
          "output_type": "stream",
          "text": [
            "          A     B   C     D\n",
            "Row_1  12.0   7.0  20  14.0\n",
            "Row_2   4.0   2.0  16   3.0\n",
            "Row_3   5.0  54.0  11   NaN\n",
            "Row_4   NaN   3.0   3   2.0\n",
            "Row_5   1.0   NaN   8   6.0\n"
          ],
          "name": "stdout"
        }
      ]
    },
    {
      "cell_type": "code",
      "metadata": {
        "id": "qQHrJ9wphND_",
        "outputId": "a30905a0-9936-4dda-c55e-158a9ffe0f3b",
        "colab": {
          "base_uri": "https://localhost:8080/",
          "height": 118
        }
      },
      "source": [
        "# add 10 to each element of the dataframe \n",
        "result = df.transform(func = lambda x : x + 10) \n",
        "# Print the result \n",
        "print(result) "
      ],
      "execution_count": null,
      "outputs": [
        {
          "output_type": "stream",
          "text": [
            "          A     B   C     D\n",
            "Row_1  22.0  17.0  30  24.0\n",
            "Row_2  14.0  12.0  26  13.0\n",
            "Row_3  15.0  64.0  21   NaN\n",
            "Row_4   NaN  13.0  13  12.0\n",
            "Row_5  11.0   NaN  18  16.0\n"
          ],
          "name": "stdout"
        }
      ]
    }
  ]
}